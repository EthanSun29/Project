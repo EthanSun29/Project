{
 "cells": [
  {
   "cell_type": "code",
   "execution_count": 71,
   "id": "eb503146",
   "metadata": {},
   "outputs": [],
   "source": [
    "import pandas as pd\n",
    "import numpy as np\n",
    "from sklearn.metrics import mean_absolute_error\n",
    "from sklearn.model_selection import train_test_split\n",
    "from sklearn.tree import DecisionTreeRegressor\n",
    "from sklearn.metrics import confusion_matrix, accuracy_score, classification_report"
   ]
  },
  {
   "cell_type": "code",
   "execution_count": 72,
   "id": "c6759075",
   "metadata": {},
   "outputs": [],
   "source": [
    "df=pd.read_pickle('Pickle_f2.pickle')"
   ]
  },
  {
   "cell_type": "code",
   "execution_count": 73,
   "id": "82b10c65",
   "metadata": {},
   "outputs": [
    {
     "data": {
      "text/plain": [
       "Index(['date_string', 'session_id', 'event', 'event_data', 'URL', 'referrer',\n",
       "       'servertimestamp', 'pagetitle', 'browser', 'mobile_device',\n",
       "       'user_agent', 'utm_source', 'utm_medium', 'utm_term', 'utm_content',\n",
       "       'utm_campaign', 'fingerprint', 'timestamp_x', 'netloc', 'path',\n",
       "       'refnetloc', 'refpath', 'localtime', 'Application', 'Funded'],\n",
       "      dtype='object')"
      ]
     },
     "execution_count": 73,
     "metadata": {},
     "output_type": "execute_result"
    }
   ],
   "source": [
    "df.columns"
   ]
  },
  {
   "cell_type": "code",
   "execution_count": 74,
   "id": "82d36619",
   "metadata": {},
   "outputs": [],
   "source": [
    "completion_data= df[df.Application].copy()"
   ]
  },
  {
   "cell_type": "code",
   "execution_count": 75,
   "id": "4a6f598f",
   "metadata": {},
   "outputs": [
    {
     "name": "stdout",
     "output_type": "stream",
     "text": [
      "Index(['date_string', 'session_id', 'event', 'event_data', 'URL', 'referrer',\n",
      "       'servertimestamp', 'pagetitle', 'browser', 'mobile_device',\n",
      "       'user_agent', 'utm_source', 'utm_medium', 'utm_term', 'utm_content',\n",
      "       'utm_campaign', 'fingerprint', 'timestamp_x', 'netloc', 'path',\n",
      "       'refnetloc', 'refpath', 'localtime', 'Application', 'Funded'],\n",
      "      dtype='object')\n"
     ]
    }
   ],
   "source": [
    "print(completion_data.columns)"
   ]
  },
  {
   "cell_type": "code",
   "execution_count": 76,
   "id": "4df38f05",
   "metadata": {},
   "outputs": [],
   "source": [
    "one_hot=pd.get_dummies(completion_data['refnetloc'])"
   ]
  },
  {
   "cell_type": "code",
   "execution_count": 77,
   "id": "ea4120b1",
   "metadata": {},
   "outputs": [],
   "source": [
    "completion_data=completion_data.join(one_hot)"
   ]
  },
  {
   "cell_type": "code",
   "execution_count": 78,
   "id": "33c08275",
   "metadata": {},
   "outputs": [],
   "source": [
    "completion_data=completion_data.drop('refnetloc',axis=1)"
   ]
  },
  {
   "cell_type": "code",
   "execution_count": 79,
   "id": "aed5176a",
   "metadata": {},
   "outputs": [],
   "source": [
    "features=one_hot.columns"
   ]
  },
  {
   "cell_type": "code",
   "execution_count": 80,
   "id": "c9168d67",
   "metadata": {},
   "outputs": [],
   "source": [
    "y=completion_data.Funded"
   ]
  },
  {
   "cell_type": "code",
   "execution_count": 81,
   "id": "6bc2de36",
   "metadata": {},
   "outputs": [],
   "source": [
    "x=completion_data[features]"
   ]
  },
  {
   "cell_type": "code",
   "execution_count": 86,
   "id": "5cdbdc98",
   "metadata": {},
   "outputs": [
    {
     "ename": "AttributeError",
     "evalue": "'numpy.ndarray' object has no attribute 'predict'",
     "output_type": "error",
     "traceback": [
      "\u001b[1;31m---------------------------------------------------------------------------\u001b[0m",
      "\u001b[1;31mAttributeError\u001b[0m                            Traceback (most recent call last)",
      "\u001b[1;32m~\\AppData\\Local\\Temp\\ipykernel_9036\\1342530790.py\u001b[0m in \u001b[0;36m<module>\u001b[1;34m\u001b[0m\n\u001b[1;32m----> 1\u001b[1;33m \u001b[0mval_y_pred\u001b[0m \u001b[1;33m=\u001b[0m \u001b[0malpharank_model\u001b[0m\u001b[1;33m.\u001b[0m\u001b[0mpredict\u001b[0m\u001b[1;33m(\u001b[0m\u001b[0mval_x\u001b[0m\u001b[1;33m)\u001b[0m\u001b[1;33m\u001b[0m\u001b[1;33m\u001b[0m\u001b[0m\n\u001b[0m",
      "\u001b[1;31mAttributeError\u001b[0m: 'numpy.ndarray' object has no attribute 'predict'"
     ]
    }
   ],
   "source": [
    "val_y_pred = alpharank_model.predict(val_x)"
   ]
  },
  {
   "cell_type": "code",
   "execution_count": 87,
   "id": "27da3916",
   "metadata": {},
   "outputs": [
    {
     "ename": "AttributeError",
     "evalue": "'numpy.ndarray' object has no attribute 'score'",
     "output_type": "error",
     "traceback": [
      "\u001b[1;31m---------------------------------------------------------------------------\u001b[0m",
      "\u001b[1;31mAttributeError\u001b[0m                            Traceback (most recent call last)",
      "\u001b[1;32m~\\AppData\\Local\\Temp\\ipykernel_9036\\3912327118.py\u001b[0m in \u001b[0;36m<module>\u001b[1;34m\u001b[0m\n\u001b[1;32m----> 1\u001b[1;33m \u001b[0mscore\u001b[0m \u001b[1;33m=\u001b[0m \u001b[0malpharank_model\u001b[0m\u001b[1;33m.\u001b[0m\u001b[0mscore\u001b[0m\u001b[1;33m(\u001b[0m\u001b[0mtrain_x\u001b[0m\u001b[1;33m,\u001b[0m\u001b[0mtrain_y\u001b[0m\u001b[1;33m)\u001b[0m\u001b[1;33m\u001b[0m\u001b[1;33m\u001b[0m\u001b[0m\n\u001b[0m\u001b[0;32m      2\u001b[0m \u001b[0mprint\u001b[0m\u001b[1;33m(\u001b[0m\u001b[1;34m\"R-squared:\"\u001b[0m\u001b[1;33m,\u001b[0m \u001b[0mscore\u001b[0m\u001b[1;33m)\u001b[0m\u001b[1;33m\u001b[0m\u001b[1;33m\u001b[0m\u001b[0m\n",
      "\u001b[1;31mAttributeError\u001b[0m: 'numpy.ndarray' object has no attribute 'score'"
     ]
    }
   ],
   "source": [
    "score = alpharank_model.score(train_x,train_y)\n",
    "print(\"R-squared:\", score) "
   ]
  },
  {
   "cell_type": "code",
   "execution_count": 88,
   "id": "28d6aad6",
   "metadata": {},
   "outputs": [
    {
     "ename": "NameError",
     "evalue": "name 'val_y_pred' is not defined",
     "output_type": "error",
     "traceback": [
      "\u001b[1;31m---------------------------------------------------------------------------\u001b[0m",
      "\u001b[1;31mNameError\u001b[0m                                 Traceback (most recent call last)",
      "\u001b[1;32m~\\AppData\\Local\\Temp\\ipykernel_9036\\3668584106.py\u001b[0m in \u001b[0;36m<module>\u001b[1;34m\u001b[0m\n\u001b[1;32m----> 1\u001b[1;33m \u001b[0my_predicted\u001b[0m \u001b[1;33m=\u001b[0m \u001b[0mnp\u001b[0m\u001b[1;33m.\u001b[0m\u001b[0mwhere\u001b[0m\u001b[1;33m(\u001b[0m\u001b[0mval_y_pred\u001b[0m\u001b[1;33m>\u001b[0m\u001b[1;36m0.5\u001b[0m\u001b[1;33m,\u001b[0m\u001b[1;36m1\u001b[0m\u001b[1;33m,\u001b[0m\u001b[1;36m0\u001b[0m\u001b[1;33m)\u001b[0m\u001b[1;33m\u001b[0m\u001b[1;33m\u001b[0m\u001b[0m\n\u001b[0m",
      "\u001b[1;31mNameError\u001b[0m: name 'val_y_pred' is not defined"
     ]
    }
   ],
   "source": [
    "y_predicted = np.where(val_y_pred>0.5,1,0)"
   ]
  },
  {
   "cell_type": "code",
   "execution_count": 83,
   "id": "26980118",
   "metadata": {},
   "outputs": [],
   "source": [
    "alpharank_model=DecisionTreeRegressor(random_state=1)"
   ]
  },
  {
   "cell_type": "code",
   "execution_count": 84,
   "id": "9abee635",
   "metadata": {},
   "outputs": [
    {
     "data": {
      "text/plain": [
       "DecisionTreeRegressor(random_state=1)"
      ]
     },
     "execution_count": 84,
     "metadata": {},
     "output_type": "execute_result"
    }
   ],
   "source": [
    "alpharank_model.fit(train_x,train_y)"
   ]
  },
  {
   "cell_type": "code",
   "execution_count": 85,
   "id": "b4b29a0c",
   "metadata": {},
   "outputs": [],
   "source": [
    "alpharank_model=alpharank_model.predict(x)"
   ]
  },
  {
   "cell_type": "code",
   "execution_count": 69,
   "id": "1c9d65c0",
   "metadata": {},
   "outputs": [
    {
     "name": "stdout",
     "output_type": "stream",
     "text": [
      "[0.37142857 0.07117438 0.05555556 ... 0.07117438 0.37142857 0.37142857]\n"
     ]
    }
   ],
   "source": [
    "print(alpharank_model)"
   ]
  },
  {
   "cell_type": "code",
   "execution_count": null,
   "id": "87032c9d",
   "metadata": {},
   "outputs": [],
   "source": []
  },
  {
   "cell_type": "code",
   "execution_count": null,
   "id": "ec3ccfcc",
   "metadata": {},
   "outputs": [],
   "source": []
  }
 ],
 "metadata": {
  "kernelspec": {
   "display_name": "Python 3 (ipykernel)",
   "language": "python",
   "name": "python3"
  },
  "language_info": {
   "codemirror_mode": {
    "name": "ipython",
    "version": 3
   },
   "file_extension": ".py",
   "mimetype": "text/x-python",
   "name": "python",
   "nbconvert_exporter": "python",
   "pygments_lexer": "ipython3",
   "version": "3.9.13"
  }
 },
 "nbformat": 4,
 "nbformat_minor": 5
}
