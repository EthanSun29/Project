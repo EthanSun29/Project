{
 "cells": [
  {
   "cell_type": "code",
   "execution_count": 1,
   "id": "eb503146",
   "metadata": {},
   "outputs": [],
   "source": [
    "import pandas as pd\n",
    "import numpy as np\n",
    "from sklearn.metrics import mean_absolute_error\n",
    "from sklearn.model_selection import train_test_split\n",
    "from sklearn.tree import DecisionTreeRegressor\n",
    "from sklearn.metrics import confusion_matrix, accuracy_score, classification_report"
   ]
  },
  {
   "cell_type": "code",
   "execution_count": 2,
   "id": "c6759075",
   "metadata": {},
   "outputs": [],
   "source": [
    "df=pd.read_pickle('Pickle_f2.pickle')"
   ]
  },
  {
   "cell_type": "code",
   "execution_count": 3,
   "id": "82b10c65",
   "metadata": {},
   "outputs": [
    {
     "data": {
      "text/plain": [
       "Index(['date_string', 'session_id', 'event', 'event_data', 'URL', 'referrer',\n",
       "       'servertimestamp', 'pagetitle', 'browser', 'mobile_device',\n",
       "       'user_agent', 'utm_source', 'utm_medium', 'utm_term', 'utm_content',\n",
       "       'utm_campaign', 'fingerprint', 'timestamp_x', 'netloc', 'path',\n",
       "       'refnetloc', 'refpath', 'localtime', 'Application', 'Funded'],\n",
       "      dtype='object')"
      ]
     },
     "execution_count": 3,
     "metadata": {},
     "output_type": "execute_result"
    }
   ],
   "source": [
    "df.columns"
   ]
  },
  {
   "cell_type": "code",
   "execution_count": 4,
   "id": "82d36619",
   "metadata": {},
   "outputs": [],
   "source": [
    "completion_data= df[df.Application].copy()"
   ]
  },
  {
   "cell_type": "code",
   "execution_count": 5,
   "id": "4a6f598f",
   "metadata": {},
   "outputs": [
    {
     "name": "stdout",
     "output_type": "stream",
     "text": [
      "Index(['date_string', 'session_id', 'event', 'event_data', 'URL', 'referrer',\n",
      "       'servertimestamp', 'pagetitle', 'browser', 'mobile_device',\n",
      "       'user_agent', 'utm_source', 'utm_medium', 'utm_term', 'utm_content',\n",
      "       'utm_campaign', 'fingerprint', 'timestamp_x', 'netloc', 'path',\n",
      "       'refnetloc', 'refpath', 'localtime', 'Application', 'Funded'],\n",
      "      dtype='object')\n"
     ]
    }
   ],
   "source": [
    "print(completion_data.columns)"
   ]
  },
  {
   "cell_type": "code",
   "execution_count": 6,
   "id": "4df38f05",
   "metadata": {},
   "outputs": [],
   "source": [
    "one_hot=pd.get_dummies(completion_data['refnetloc'])"
   ]
  },
  {
   "cell_type": "code",
   "execution_count": 7,
   "id": "ea4120b1",
   "metadata": {},
   "outputs": [],
   "source": [
    "completion_data=completion_data.join(one_hot)"
   ]
  },
  {
   "cell_type": "code",
   "execution_count": 8,
   "id": "33c08275",
   "metadata": {},
   "outputs": [],
   "source": [
    "completion_data=completion_data.drop('refnetloc',axis=1)"
   ]
  },
  {
   "cell_type": "code",
   "execution_count": 9,
   "id": "aed5176a",
   "metadata": {},
   "outputs": [],
   "source": [
    "features=one_hot.columns"
   ]
  },
  {
   "cell_type": "code",
   "execution_count": 10,
   "id": "c9168d67",
   "metadata": {},
   "outputs": [],
   "source": [
    "y=completion_data.Funded"
   ]
  },
  {
   "cell_type": "code",
   "execution_count": 11,
   "id": "6bc2de36",
   "metadata": {},
   "outputs": [],
   "source": [
    "x=completion_data[features]"
   ]
  },
  {
   "cell_type": "code",
   "execution_count": 12,
   "id": "84d80c27",
   "metadata": {},
   "outputs": [],
   "source": [
    "train_x, val_x, train_y, val_y= train_test_split(x,y, random_state=1)"
   ]
  },
  {
   "cell_type": "code",
   "execution_count": 13,
   "id": "84ce9296",
   "metadata": {},
   "outputs": [],
   "source": [
    "alpharank_model=DecisionTreeRegressor(random_state=1)"
   ]
  },
  {
   "cell_type": "code",
   "execution_count": 14,
   "id": "8e0ee855",
   "metadata": {},
   "outputs": [
    {
     "data": {
      "text/plain": [
       "DecisionTreeRegressor(random_state=1)"
      ]
     },
     "execution_count": 14,
     "metadata": {},
     "output_type": "execute_result"
    }
   ],
   "source": [
    "alpharank_model.fit(train_x,train_y)"
   ]
  },
  {
   "cell_type": "code",
   "execution_count": 15,
   "id": "5cdbdc98",
   "metadata": {},
   "outputs": [],
   "source": [
    "val_y_pred = alpharank_model.predict(val_x)"
   ]
  },
  {
   "cell_type": "code",
   "execution_count": 16,
   "id": "27da3916",
   "metadata": {},
   "outputs": [
    {
     "name": "stdout",
     "output_type": "stream",
     "text": [
      "R-squared: 0.15595361028564958\n"
     ]
    }
   ],
   "source": [
    "score = alpharank_model.score(train_x,train_y)\n",
    "print(\"R-squared:\", score) "
   ]
  },
  {
   "cell_type": "code",
   "execution_count": 17,
   "id": "28d6aad6",
   "metadata": {},
   "outputs": [],
   "source": [
    "y_predicted = np.where(val_y_pred>0.5,1,0)"
   ]
  },
  {
   "cell_type": "code",
   "execution_count": 18,
   "id": "87032c9d",
   "metadata": {},
   "outputs": [
    {
     "name": "stdout",
     "output_type": "stream",
     "text": [
      "Confusion Matrix\n",
      "[[378   0]\n",
      " [ 38   0]]\n",
      "Class Report\n",
      "              precision    recall  f1-score   support\n",
      "\n",
      "       False       0.91      1.00      0.95       378\n",
      "        True       0.00      0.00      0.00        38\n",
      "\n",
      "    accuracy                           0.91       416\n",
      "   macro avg       0.45      0.50      0.48       416\n",
      "weighted avg       0.83      0.91      0.87       416\n",
      "\n",
      "Classification Accuracy of the model: 90.87%\n"
     ]
    },
    {
     "name": "stderr",
     "output_type": "stream",
     "text": [
      "C:\\Users\\Ethan\\anaconda3\\lib\\site-packages\\sklearn\\metrics\\_classification.py:1318: UndefinedMetricWarning: Precision and F-score are ill-defined and being set to 0.0 in labels with no predicted samples. Use `zero_division` parameter to control this behavior.\n",
      "  _warn_prf(average, modifier, msg_start, len(result))\n",
      "C:\\Users\\Ethan\\anaconda3\\lib\\site-packages\\sklearn\\metrics\\_classification.py:1318: UndefinedMetricWarning: Precision and F-score are ill-defined and being set to 0.0 in labels with no predicted samples. Use `zero_division` parameter to control this behavior.\n",
      "  _warn_prf(average, modifier, msg_start, len(result))\n",
      "C:\\Users\\Ethan\\anaconda3\\lib\\site-packages\\sklearn\\metrics\\_classification.py:1318: UndefinedMetricWarning: Precision and F-score are ill-defined and being set to 0.0 in labels with no predicted samples. Use `zero_division` parameter to control this behavior.\n",
      "  _warn_prf(average, modifier, msg_start, len(result))\n"
     ]
    }
   ],
   "source": [
    "print(\"Confusion Matrix\")\n",
    "matrix = confusion_matrix(val_y, y_predicted)\n",
    "print(matrix)\n",
    "\n",
    "print(\"Class Report\")\n",
    "report = classification_report(val_y, y_predicted)\n",
    "print(report)\n",
    "\n",
    "accuracy = accuracy_score(val_y, y_predicted)\n",
    "print('Classification Accuracy of the model: {:.2f}%'.format(accuracy*100))"
   ]
  },
  {
   "cell_type": "code",
   "execution_count": null,
   "id": "ec3ccfcc",
   "metadata": {},
   "outputs": [],
   "source": []
  },
  {
   "cell_type": "code",
   "execution_count": null,
   "id": "dc45d7aa",
   "metadata": {},
   "outputs": [],
   "source": []
  }
 ],
 "metadata": {
  "kernelspec": {
   "display_name": "Python 3 (ipykernel)",
   "language": "python",
   "name": "python3"
  },
  "language_info": {
   "codemirror_mode": {
    "name": "ipython",
    "version": 3
   },
   "file_extension": ".py",
   "mimetype": "text/x-python",
   "name": "python",
   "nbconvert_exporter": "python",
   "pygments_lexer": "ipython3",
   "version": "3.9.13"
  }
 },
 "nbformat": 4,
 "nbformat_minor": 5
}
