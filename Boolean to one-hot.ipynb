{
 "cells": [
  {
   "cell_type": "code",
   "execution_count": 1,
   "id": "eb503146",
   "metadata": {},
   "outputs": [],
   "source": [
    "import pandas as pd\n",
    "from sklearn.metrics import mean_absolute_error\n",
    "from sklearn.model_selection import train_test_split\n",
    "from sklearn.tree import DecisionTreeRegressor"
   ]
  },
  {
   "cell_type": "code",
   "execution_count": 2,
   "id": "c6759075",
   "metadata": {},
   "outputs": [],
   "source": [
    "df=pd.read_pickle('Pickle_f2.pickle')"
   ]
  },
  {
   "cell_type": "code",
   "execution_count": 3,
   "id": "82b10c65",
   "metadata": {},
   "outputs": [
    {
     "data": {
      "text/plain": [
       "Index(['date_string', 'session_id', 'event', 'event_data', 'URL', 'referrer',\n",
       "       'servertimestamp', 'pagetitle', 'browser', 'mobile_device',\n",
       "       'user_agent', 'utm_source', 'utm_medium', 'utm_term', 'utm_content',\n",
       "       'utm_campaign', 'fingerprint', 'timestamp_x', 'netloc', 'path',\n",
       "       'refnetloc', 'refpath', 'localtime', 'Application', 'Funded'],\n",
       "      dtype='object')"
      ]
     },
     "execution_count": 3,
     "metadata": {},
     "output_type": "execute_result"
    }
   ],
   "source": [
    "df.columns"
   ]
  },
  {
   "cell_type": "code",
   "execution_count": 4,
   "id": "82d36619",
   "metadata": {},
   "outputs": [],
   "source": [
    "completion_data= df[df.Application].copy()"
   ]
  },
  {
   "cell_type": "code",
   "execution_count": 5,
   "id": "4a6f598f",
   "metadata": {},
   "outputs": [
    {
     "name": "stdout",
     "output_type": "stream",
     "text": [
      "Index(['date_string', 'session_id', 'event', 'event_data', 'URL', 'referrer',\n",
      "       'servertimestamp', 'pagetitle', 'browser', 'mobile_device',\n",
      "       'user_agent', 'utm_source', 'utm_medium', 'utm_term', 'utm_content',\n",
      "       'utm_campaign', 'fingerprint', 'timestamp_x', 'netloc', 'path',\n",
      "       'refnetloc', 'refpath', 'localtime', 'Application', 'Funded'],\n",
      "      dtype='object')\n"
     ]
    }
   ],
   "source": [
    "print(completion_data.columns)"
   ]
  },
  {
   "cell_type": "code",
   "execution_count": 6,
   "id": "4df38f05",
   "metadata": {},
   "outputs": [],
   "source": [
    "one_hot=pd.get_dummies(completion_data['refnetloc'])"
   ]
  },
  {
   "cell_type": "code",
   "execution_count": 7,
   "id": "ea4120b1",
   "metadata": {},
   "outputs": [],
   "source": [
    "completion_data=completion_data.join(one_hot)"
   ]
  },
  {
   "cell_type": "code",
   "execution_count": 8,
   "id": "33c08275",
   "metadata": {},
   "outputs": [],
   "source": [
    "completion_data=completion_data.drop('refnetloc',axis=1)"
   ]
  },
  {
   "cell_type": "code",
   "execution_count": 10,
   "id": "aed5176a",
   "metadata": {},
   "outputs": [],
   "source": [
    "features=one_hot.columns"
   ]
  },
  {
   "cell_type": "code",
   "execution_count": 11,
   "id": "c9168d67",
   "metadata": {},
   "outputs": [],
   "source": [
    "y=completion_data.Funded"
   ]
  },
  {
   "cell_type": "code",
   "execution_count": 12,
   "id": "6bc2de36",
   "metadata": {},
   "outputs": [],
   "source": [
    "x=completion_data[features]"
   ]
  },
  {
   "cell_type": "code",
   "execution_count": 13,
   "id": "5cdbdc98",
   "metadata": {},
   "outputs": [],
   "source": [
    "train_x, val_x, train_y, val_y= train_test_split(x,y, random_state=1)"
   ]
  },
  {
   "cell_type": "code",
   "execution_count": 21,
   "id": "26980118",
   "metadata": {},
   "outputs": [],
   "source": [
    "alpharank_model=DecisionTreeRegressor(random_state=1)"
   ]
  },
  {
   "cell_type": "code",
   "execution_count": 22,
   "id": "9abee635",
   "metadata": {},
   "outputs": [
    {
     "data": {
      "text/plain": [
       "DecisionTreeRegressor(random_state=1)"
      ]
     },
     "execution_count": 22,
     "metadata": {},
     "output_type": "execute_result"
    }
   ],
   "source": [
    "alpharank_model.fit(train_x,train_y)"
   ]
  },
  {
   "cell_type": "code",
   "execution_count": 23,
   "id": "b4b29a0c",
   "metadata": {},
   "outputs": [],
   "source": [
    "alpharank_model=alpharank_model.predict(x)"
   ]
  },
  {
   "cell_type": "code",
   "execution_count": 25,
   "id": "1c9d65c0",
   "metadata": {},
   "outputs": [
    {
     "name": "stdout",
     "output_type": "stream",
     "text": [
      "[0.37142857 0.07117438 0.05555556 ... 0.07117438 0.37142857 0.37142857]\n"
     ]
    }
   ],
   "source": [
    "print(alpharank_model)"
   ]
  },
  {
   "cell_type": "code",
   "execution_count": null,
   "id": "87032c9d",
   "metadata": {},
   "outputs": [],
   "source": []
  }
 ],
 "metadata": {
  "kernelspec": {
   "display_name": "Python 3 (ipykernel)",
   "language": "python",
   "name": "python3"
  },
  "language_info": {
   "codemirror_mode": {
    "name": "ipython",
    "version": 3
   },
   "file_extension": ".py",
   "mimetype": "text/x-python",
   "name": "python",
   "nbconvert_exporter": "python",
   "pygments_lexer": "ipython3",
   "version": "3.9.13"
  }
 },
 "nbformat": 4,
 "nbformat_minor": 5
}
